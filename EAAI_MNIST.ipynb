{
 "cells": [
  {
   "cell_type": "markdown",
   "metadata": {
    "id": "BmJiweEdI1r4"
   },
   "source": [
    "# Toy example: MNIST\n",
    "\n",
    "We have seen that the MNIST dataset contains handwritten numbers from 0-9 in the from of small 28x28 pixel image. Our goal here will be to train a fully connected neural network to **classify** these images correctly."
   ]
  },
  {
   "cell_type": "markdown",
   "metadata": {
    "id": "24mabqI9J3MN"
   },
   "source": [
    "## Packages\n",
    "\n",
    "In order to write the necessary code, we import a few Python packages, in particular modules from Keras, a library built on top of Tensorflow that makes it easy to define neural networks:"
   ]
  },
  {
   "cell_type": "code",
   "execution_count": null,
   "metadata": {
    "executionInfo": {
     "elapsed": 2621,
     "status": "ok",
     "timestamp": 1664291743749,
     "user": {
      "displayName": "Guillaume Witz",
      "userId": "16033870147214403532"
     },
     "user_tz": -120
    },
    "id": "1ARAnkbXKKH2"
   },
   "outputs": [],
   "source": [
    "import numpy as np\n",
    "import matplotlib.pyplot as plt\n",
    "\n",
    "from keras.datasets import mnist     # MNIST dataset is included in Keras\n",
    "from keras.models import Sequential  # Model type to be used\n",
    "\n",
    "from tensorflow.keras import Input\n",
    "from tensorflow.keras.layers import Dense, Dropout, Activation\n",
    "from tensorflow.keras.utils import to_categorical, plot_model"
   ]
  },
  {
   "cell_type": "markdown",
   "metadata": {
    "id": "S5GYQRL3KKmx"
   },
   "source": [
    "## Dataset\n",
    "\n",
    "MNIST being a popular test and toy model, it comes integrated into multiple packages. We can just download the necesssary image using:\n"
   ]
  },
  {
   "cell_type": "code",
   "execution_count": null,
   "metadata": {
    "colab": {
     "base_uri": "https://localhost:8080/"
    },
    "executionInfo": {
     "elapsed": 1015,
     "status": "ok",
     "timestamp": 1664291746952,
     "user": {
      "displayName": "Guillaume Witz",
      "userId": "16033870147214403532"
     },
     "user_tz": -120
    },
    "id": "rjJQK0IVKaW7",
    "outputId": "5633f87a-0c0f-4cc3-e8fe-a0d047ff03d4"
   },
   "outputs": [],
   "source": [
    "(X_train, y_train), (X_test, y_test) = mnist.load_data()\n",
    "\n",
    "print(\"X_train shape\", X_train.shape)\n",
    "print(\"y_train shape\", y_train.shape)\n",
    "print(\"X_test shape\", X_test.shape)\n",
    "print(\"y_test shape\", y_test.shape)"
   ]
  },
  {
   "cell_type": "markdown",
   "metadata": {
    "id": "h1HFe6y5Kaz9"
   },
   "source": [
    "The last four lines tell us that we have 60'000 images in our training dataset and each of them have 28x28 pixels. Correspondingly we have 60'000 labels telling us what number is displayed in each image. Similarly, we have 10'000 images and labels to use as test for our model. "
   ]
  },
  {
   "cell_type": "markdown",
   "metadata": {
    "id": "fXymF2rbK50L"
   },
   "source": [
    "## Visualizing the data\n",
    "\n",
    "Before creating our model, let's have a look at our dataset. We can plot a few images and their labels:"
   ]
  },
  {
   "cell_type": "code",
   "execution_count": null,
   "metadata": {
    "colab": {
     "base_uri": "https://localhost:8080/",
     "height": 303
    },
    "executionInfo": {
     "elapsed": 1726,
     "status": "ok",
     "timestamp": 1664291749983,
     "user": {
      "displayName": "Guillaume Witz",
      "userId": "16033870147214403532"
     },
     "user_tz": -120
    },
    "id": "AYNJjaS0LKig",
    "outputId": "b82575b1-bb7f-44e1-afb7-c5f11657a7ca"
   },
   "outputs": [],
   "source": [
    "# plot the 25 mnist digits\n",
    "plt.figure(figsize=(5,5))\n",
    "for i in range(25):\n",
    "    plt.subplot(5, 5, i + 1)\n",
    "    image = X_train[i]\n",
    "    plt.imshow(image, cmap='gray')\n",
    "    plt.axis('off')"
   ]
  },
  {
   "cell_type": "markdown",
   "metadata": {
    "id": "-bJf528BMvGL"
   },
   "source": [
    "## Data pre-processing\n",
    "\n",
    "Before we can actually feed data to a network there are always some pre-processing steps.\n",
    "\n",
    "For example, ss we have seen, we use here a simple model where all pixels are connected to each other and where the image is \"linearized\". Currently our data are still in 28x28 = 784 pixel format so we need to reshape them. We also change the pixel values from a 0-255 scale to a 0-1 scale:"
   ]
  },
  {
   "cell_type": "code",
   "execution_count": 4,
   "metadata": {
    "executionInfo": {
     "elapsed": 434,
     "status": "ok",
     "timestamp": 1664291751775,
     "user": {
      "displayName": "Guillaume Witz",
      "userId": "16033870147214403532"
     },
     "user_tz": -120
    },
    "id": "M5SJS9D4NYUf"
   },
   "outputs": [],
   "source": [
    "input_size = 784\n",
    "\n",
    "X_train = np.reshape(X_train, [-1, input_size])     # Flatten the images\n",
    "X_train = X_train.astype('float32') / 255           # Normalize the images\n",
    "X_test = np.reshape(X_test, [-1, input_size])       # Flatten the images\n",
    "X_test = X_test.astype('float32') / 255             # Normalize the images"
   ]
  },
  {
   "cell_type": "markdown",
   "metadata": {
    "id": "5YKCFVGDNzAT"
   },
   "source": [
    "Our labels are currently just a list of numbers 5,2,8,5,1,9,4,5,2 etc. To be usable in ML we have to use one-hot encoding. Each of these numbers is transformed into a list composed of zeros, except at the location corresponding to the number which has a 1. For example, the number 3 is represented as: [0,0,0,1,0,0,0,0,0,0]"
   ]
  },
  {
   "cell_type": "code",
   "execution_count": 5,
   "metadata": {
    "executionInfo": {
     "elapsed": 4,
     "status": "ok",
     "timestamp": 1664291753891,
     "user": {
      "displayName": "Guillaume Witz",
      "userId": "16033870147214403532"
     },
     "user_tz": -120
    },
    "id": "aTmidfM-LVsF"
   },
   "outputs": [],
   "source": [
    "# convert to one-hot vector\n",
    "Y_train = to_categorical(y_train)   \n",
    "Y_test = to_categorical(y_test)"
   ]
  },
  {
   "cell_type": "markdown",
   "metadata": {
    "id": "LBnUuBgYMruD"
   },
   "source": [
    "## Model architecture\n",
    "\n",
    "Now comes the center of our exercise: defining the neural network model. "
   ]
  },
  {
   "cell_type": "code",
   "execution_count": null,
   "metadata": {
    "colab": {
     "base_uri": "https://localhost:8080/"
    },
    "executionInfo": {
     "elapsed": 3724,
     "status": "ok",
     "timestamp": 1664291759653,
     "user": {
      "displayName": "Guillaume Witz",
      "userId": "16033870147214403532"
     },
     "user_tz": -120
    },
    "id": "lNlkuw6gNQTp",
    "outputId": "4707605d-4ce7-466f-fe47-7471d7d1dc8a"
   },
   "outputs": [],
   "source": [
    "# model initialization\n",
    "model = Sequential()\n",
    "# define input size\n",
    "model.add(Input(shape=(784,)))\n",
    "\n",
    "# define first layer\n",
    "model.add(Dense(512, activation='relu'))\n",
    "\n",
    "# define second layer\n",
    "model.add(Dense(512, activation='relu'), )\n",
    "\n",
    "# define last layer, one neuron per number\n",
    "model.add(Dense(10))\n",
    "\n",
    "# classifier\n",
    "model.add(Activation('softmax'))\n",
    "\n",
    "model.summary()"
   ]
  },
  {
   "cell_type": "code",
   "execution_count": null,
   "metadata": {
    "colab": {
     "base_uri": "https://localhost:8080/",
     "height": 533
    },
    "executionInfo": {
     "elapsed": 749,
     "status": "ok",
     "timestamp": 1664291762597,
     "user": {
      "displayName": "Guillaume Witz",
      "userId": "16033870147214403532"
     },
     "user_tz": -120
    },
    "id": "4UQn45WWagm7",
    "outputId": "d9f523b6-1fdb-4f34-ac7d-38690e195473"
   },
   "outputs": [],
   "source": [
    "plot_model(model, to_file='mlp-mnist.png', show_shapes=True)"
   ]
  },
  {
   "cell_type": "markdown",
   "metadata": {
    "id": "YMpJvMV2R-py"
   },
   "source": [
    "## Model optimization\n",
    "\n",
    "Now we define how we are going to train the model. For example what do we measure to say that the model is ok or not, what type of gradient descent we use etc."
   ]
  },
  {
   "cell_type": "code",
   "execution_count": 8,
   "metadata": {
    "executionInfo": {
     "elapsed": 3,
     "status": "ok",
     "timestamp": 1664291764510,
     "user": {
      "displayName": "Guillaume Witz",
      "userId": "16033870147214403532"
     },
     "user_tz": -120
    },
    "id": "Vdet8N1sQSdQ"
   },
   "outputs": [],
   "source": [
    "model.compile(loss='categorical_crossentropy', optimizer='adam', metrics=['accuracy'])"
   ]
  },
  {
   "cell_type": "markdown",
   "metadata": {
    "id": "F6CpUVcySJ9x"
   },
   "source": [
    "## Training\n",
    "\n",
    "We can finally run the training!"
   ]
  },
  {
   "cell_type": "code",
   "execution_count": null,
   "metadata": {
    "colab": {
     "base_uri": "https://localhost:8080/"
    },
    "executionInfo": {
     "elapsed": 11256,
     "status": "ok",
     "timestamp": 1664291777953,
     "user": {
      "displayName": "Guillaume Witz",
      "userId": "16033870147214403532"
     },
     "user_tz": -120
    },
    "id": "Ey57vyVwSPdb",
    "outputId": "0d05d6d4-0b36-42ea-b417-e6b3b54aac6a"
   },
   "outputs": [],
   "source": [
    "model.fit(X_train, Y_train, batch_size=256, epochs=5, verbose=1)"
   ]
  },
  {
   "cell_type": "markdown",
   "metadata": {
    "id": "9ClirQp6ST4R"
   },
   "source": [
    "## Evaluation\n",
    "\n",
    "Now that the model is trained, we can try it out on our test data, those data that the model has never seen before:"
   ]
  },
  {
   "cell_type": "code",
   "execution_count": null,
   "metadata": {
    "colab": {
     "base_uri": "https://localhost:8080/"
    },
    "executionInfo": {
     "elapsed": 2258,
     "status": "ok",
     "timestamp": 1664291785023,
     "user": {
      "displayName": "Guillaume Witz",
      "userId": "16033870147214403532"
     },
     "user_tz": -120
    },
    "id": "0iIjQ9c9Sh0B",
    "outputId": "647b1f33-daff-40aa-ec10-ba0b1af74769"
   },
   "outputs": [],
   "source": [
    "score = model.evaluate(X_test, Y_test)\n",
    "print('Test score:', score[0])\n",
    "print('Test accuracy:', score[1])"
   ]
  },
  {
   "cell_type": "markdown",
   "metadata": {
    "id": "5_lhh1xhSjB8"
   },
   "source": [
    "We reached above 90% accuracy!"
   ]
  },
  {
   "cell_type": "markdown",
   "metadata": {},
   "source": [
    "## Saving the model\n",
    "\n",
    "In order to be able to re-use the model at a later time point or to make it available on another platform, we can save it:"
   ]
  },
  {
   "cell_type": "code",
   "execution_count": 20,
   "metadata": {},
   "outputs": [],
   "source": [
    "model.save('mnist_model.keras')"
   ]
  },
  {
   "cell_type": "markdown",
   "metadata": {
    "id": "HNoM1ORGSoC5"
   },
   "source": [
    "## Where did it go wrong\n",
    "\n",
    "From the samples in the test set we can now have a look at examples that worked and didn't work. This is important in order to understand "
   ]
  },
  {
   "cell_type": "code",
   "execution_count": null,
   "metadata": {
    "executionInfo": {
     "elapsed": 959,
     "status": "ok",
     "timestamp": 1664291791199,
     "user": {
      "displayName": "Guillaume Witz",
      "userId": "16033870147214403532"
     },
     "user_tz": -120
    },
    "id": "N6pCHE4rSw3o"
   },
   "outputs": [],
   "source": [
    "predict_x=model.predict(X_test) \n",
    "predicted_classes=np.argmax(predict_x,axis=1)\n",
    "\n",
    "# Check which items we got right / wrong\n",
    "correct_indices = np.nonzero(predicted_classes == y_test)[0]\n",
    "\n",
    "incorrect_indices = np.nonzero(predicted_classes != y_test)[0]"
   ]
  },
  {
   "cell_type": "code",
   "execution_count": null,
   "metadata": {
    "colab": {
     "base_uri": "https://localhost:8080/",
     "height": 779
    },
    "executionInfo": {
     "elapsed": 2230,
     "status": "ok",
     "timestamp": 1664291794858,
     "user": {
      "displayName": "Guillaume Witz",
      "userId": "16033870147214403532"
     },
     "user_tz": -120
    },
    "id": "NGOzG549Sx-j",
    "outputId": "f84f1374-05bd-45be-8a1a-8dcf10bd165f"
   },
   "outputs": [],
   "source": [
    "fig, ax = plt.subplots(3,3, figsize=(6,5))\n",
    "for ax, correct in zip(ax.flat, correct_indices[:9]):\n",
    "    ax.imshow(X_test[correct].reshape(28,28), cmap='gray', interpolation='none')\n",
    "    ax.set_title(\"Predicted {}, Class {}\".format(predicted_classes[correct], y_test[correct]))\n",
    "fig.suptitle('Correct', y=1.05, fontsize=15)\n",
    "    \n",
    "plt.tight_layout()\n",
    "    \n",
    "fig, ax = plt.subplots(3,3, figsize=(6,5))\n",
    "for ax, incorrect in zip(ax.flat, incorrect_indices[:9]):\n",
    "    ax.imshow(X_test[incorrect].reshape(28,28), cmap='gray', interpolation='none')\n",
    "    ax.set_title(\"Predicted {}, Class {}\".format(predicted_classes[incorrect], y_test[incorrect]))\n",
    "fig.suptitle('Incorrect', y=1.05, fontsize=15)\n",
    "  \n",
    "plt.tight_layout()"
   ]
  }
 ],
 "metadata": {
  "accelerator": "GPU",
  "colab": {
   "authorship_tag": "ABX9TyMaCEjP7XUr/8AlMzQr9vdZ",
   "collapsed_sections": [],
   "provenance": []
  },
  "kernelspec": {
   "display_name": "eaai",
   "language": "python",
   "name": "python3"
  },
  "language_info": {
   "codemirror_mode": {
    "name": "ipython",
    "version": 3
   },
   "file_extension": ".py",
   "mimetype": "text/x-python",
   "name": "python",
   "nbconvert_exporter": "python",
   "pygments_lexer": "ipython3",
   "version": "3.12.7"
  }
 },
 "nbformat": 4,
 "nbformat_minor": 4
}
